{
 "cells": [
  {
   "cell_type": "markdown",
   "metadata": {},
   "source": [
    "<img src=\"http://imgur.com/1ZcRyrc.png\" style=\"float: left; margin: 20px; height: 55px\">\n",
    "\n",
    "# Gradient Descent Lab\n",
    "\n",
    "_Authors: Ben Shaver (DC), h/t Matt Brems (DC)_\n",
    "\n",
    "### Learning Objectives:\n",
    "- Review the basics of linear regression\n",
    "- Implement gradient descent by scratch to fit a simple linear regression model\n",
    "- Practice basic layered plots in Matplotlib\n",
    "\n",
    "---\n"
   ]
  },
  {
   "cell_type": "markdown",
   "metadata": {},
   "source": [
    "## Introduction and preliminaries"
   ]
  },
  {
   "cell_type": "markdown",
   "metadata": {},
   "source": [
    "In this lab, we'll examine some (completely made up) data in order to fit a model that predicts a GA grad's salary as a function of their number of years of pre-GA professional experience. First, you'll guess at the relationship between those two variables, and then we'll implement gradient descent from scratch in order to iteratively improve our guess until we end up with a well-fitted model.\n",
    "\n",
    "(You may find that [this article](https://spin.atomicobject.com/2014/06/24/gradient-descent-linear-regression/) helps you understand gradient descent. Reading through it *may* be a good decision before you complete this lab, though it should not be necessary.)"
   ]
  },
  {
   "cell_type": "code",
   "execution_count": 2,
   "metadata": {
    "collapsed": true
   },
   "outputs": [],
   "source": [
    "import pandas as pd\n",
    "import numpy as np\n",
    "import matplotlib.pyplot as plt\n",
    "\n",
    "%matplotlib inline"
   ]
  },
  {
   "cell_type": "markdown",
   "metadata": {
    "ExecuteTime": {
     "end_time": "2018-02-21T18:12:26.203651Z",
     "start_time": "2018-02-21T18:12:26.192152Z"
    }
   },
   "source": [
    "#### Write a Python function that predicts a student's post-GA income based on their number of years of previous experience:\n",
    "It should take years of experience, an intercept _b_, and a slope _m_ as arguments. (In simple linear regression, we call the y-intercept $\\beta_0$ and the slope $\\beta_1$, but we'll use $b$ and $m$ for ease.) It will return the post-GA income."
   ]
  },
  {
   "cell_type": "code",
   "execution_count": 3,
   "metadata": {
    "ExecuteTime": {
     "end_time": "2018-02-21T21:35:55.557454Z",
     "start_time": "2018-02-21T21:35:55.552440Z"
    },
    "collapsed": true
   },
   "outputs": [],
   "source": [
    "def determine_income(experience, b, m):\n",
    "    income = b + m * experience\n",
    "    return income"
   ]
  },
  {
   "cell_type": "markdown",
   "metadata": {},
   "source": [
    "Below, we've provided 100 hypothetical graduates with varying years of experience. Run this cell to save this as `years_exp`."
   ]
  },
  {
   "cell_type": "code",
   "execution_count": 4,
   "metadata": {
    "ExecuteTime": {
     "end_time": "2018-02-21T22:10:01.990137Z",
     "start_time": "2018-02-21T22:10:01.860780Z"
    },
    "collapsed": true
   },
   "outputs": [],
   "source": [
    "years_exp = pd.read_pickle('data.pickle')['Years of Experience']"
   ]
  },
  {
   "cell_type": "code",
   "execution_count": 8,
   "metadata": {},
   "outputs": [
    {
     "data": {
      "text/plain": [
       "count    100.000000\n",
       "mean       5.792307\n",
       "std        1.816337\n",
       "min        0.760510\n",
       "25%        4.798189\n",
       "50%        5.746087\n",
       "75%        6.811904\n",
       "max        9.704556\n",
       "Name: Years of Experience, dtype: float64"
      ]
     },
     "execution_count": 8,
     "metadata": {},
     "output_type": "execute_result"
    }
   ],
   "source": [
    "years_exp.describe()"
   ]
  },
  {
   "cell_type": "markdown",
   "metadata": {},
   "source": [
    "How much do **you** think a GA grad makes if they have no prior experience? How much do **you** think an additional year of experience adds to the post-GA salary? Using the function you wrote above and the years of experience for 100 hypothetical graduates provided, generate 100 predictions based on your assumptions."
   ]
  },
  {
   "cell_type": "code",
   "execution_count": 9,
   "metadata": {
    "ExecuteTime": {
     "end_time": "2018-02-21T22:00:45.096028Z",
     "start_time": "2018-02-21T22:00:45.091021Z"
    },
    "collapsed": true
   },
   "outputs": [],
   "source": [
    "b_guess = 50000  #salary for grad with no prior experience\n",
    "m_guess = 10000  #additional for each year of experience\n",
    "preds   = [determine_income(x, b_guess, m_guess) for x in years_exp]"
   ]
  },
  {
   "cell_type": "markdown",
   "metadata": {},
   "source": [
    "#### Now, load in the rest of the pickled dataframe, and run the following cell to visualize the observed relationship between years of experience and post-GA income:\n",
    "\n",
    "(For more information on Pandas' `to_pickle` and `read_pickle` methods, refer to the documentation [here](https://pandas.pydata.org/pandas-docs/stable/generated/pandas.DataFrame.to_pickle.html). Mmmm pickles.)"
   ]
  },
  {
   "cell_type": "code",
   "execution_count": 10,
   "metadata": {
    "ExecuteTime": {
     "end_time": "2018-02-21T22:10:01.991640Z",
     "start_time": "2018-02-21T22:10:01.853Z"
    }
   },
   "outputs": [
    {
     "data": {
      "image/png": "[encoded data removed]",
      "text/plain": [
       "<matplotlib.figure.Figure at 0x10e626f28>"
      ]
     },
     "metadata": {},
     "output_type": "display_data"
    }
   ],
   "source": [
    "income_data = pd.read_pickle('data.pickle')\n",
    "\n",
    "plt.scatter(income_data['Years of Experience'], income_data['Post-GA Income'])\n",
    "plt.title('Years of Previous Experience vs Post-GA Income')\n",
    "plt.xlabel('Years of Previous Experience')\n",
    "plt.ylabel('Post-GA Income');"
   ]
  },
  {
   "cell_type": "markdown",
   "metadata": {
    "ExecuteTime": {
     "end_time": "2018-02-21T18:30:32.510365Z",
     "start_time": "2018-02-21T18:30:32.503345Z"
    }
   },
   "source": [
    "#### Duplicate the scatter plot above, but with *your* predictions plotted as a red line.\n",
    "\n",
    "How close were you?"
   ]
  },
  {
   "cell_type": "code",
   "execution_count": 11,
   "metadata": {
    "ExecuteTime": {
     "end_time": "2018-02-21T22:02:41.329344Z",
     "start_time": "2018-02-21T22:02:41.184823Z"
    }
   },
   "outputs": [
    {
     "data": {
      "image/png": "[encoded data removed]",
      "text/plain": [
       "<matplotlib.figure.Figure at 0x10e626b38>"
      ]
     },
     "metadata": {},
     "output_type": "display_data"
    }
   ],
   "source": [
    "plt.scatter(income_data['Years of Experience'], income_data['Post-GA Income'])\n",
    "plt.title('Years of Previous Experience vs Post-GA Income')\n",
    "plt.xlabel('Years of Previous Experience')\n",
    "plt.ylabel('Post-GA Income')\n",
    "plt.plot(years_exp, preds, color='r');"
   ]
  },
  {
   "cell_type": "markdown",
   "metadata": {},
   "source": [
    "#### In the context of linear regression, what does the following function compute? Rename the function appropriately."
   ]
  },
  {
   "cell_type": "code",
   "execution_count": 12,
   "metadata": {
    "ExecuteTime": {
     "end_time": "2018-02-21T22:10:01.992643Z",
     "start_time": "2018-02-21T22:10:01.861Z"
    },
    "collapsed": true
   },
   "outputs": [],
   "source": [
    "def mse(y_true, y_pred):\n",
    "    n = len(y_true)\n",
    "    se = [(y_true[i] - y_pred[i])**2 for i in range(n)]\n",
    "    return(np.sum(se)/n)"
   ]
  },
  {
   "cell_type": "markdown",
   "metadata": {},
   "source": [
    "#### The function above is just one of many functions we use for a certain purpose. In machine learning, what do we call these type of functions?"
   ]
  },
  {
   "cell_type": "code",
   "execution_count": null,
   "metadata": {
    "ExecuteTime": {
     "end_time": "2018-02-21T22:02:53.166185Z",
     "start_time": "2018-02-21T22:02:53.162173Z"
    },
    "collapsed": true
   },
   "outputs": [],
   "source": [
    "#loss function"
   ]
  },
  {
   "cell_type": "markdown",
   "metadata": {},
   "source": [
    "## Gradient Descent\n",
    "\n",
    "We use gradient descent to find the set of parameter values that minimizes some function. Let's say we want to minimize this function:\n",
    "\n",
    "<img src='img1.png'>"
   ]
  },
  {
   "cell_type": "markdown",
   "metadata": {},
   "source": [
    "The parameters of a simple linear regression model are $m$ and $b$. In `statsmodels` and `scikit-learn`, when we run `.fit()`, we are estimating the value of these parameters by identifying a best guess. (Equivalently, we find the **best fit line** by finding the values of $m$ and $b$ that minimize the sum of squared errors.)\n",
    "\n",
    "In *ordinary least squares regression*, we can directly find the values of $m$ and $b$ that minimize SSE by solving $\\hat{\\beta} = (X^TX)^{-1}X^Ty$. \n",
    "\n",
    "However, there are a lot of machine learning techniques that can't be optimized in such a simple way. They rely on **gradient descent** as one method of estimating values of the parameters.\n",
    "\n",
    "Let's walk through an example together of using gradient descent to estimate parameters of a linear regression model."
   ]
  },
  {
   "cell_type": "markdown",
   "metadata": {},
   "source": [
    "**Question:** Trying to use as little mathematical terminology as possible, how would you describe a loss function?"
   ]
  },
  {
   "cell_type": "markdown",
   "metadata": {},
   "source": [
    "**Answer:** A loss function measures how bad our model is. The higher value, the worse our model is."
   ]
  },
  {
   "cell_type": "markdown",
   "metadata": {},
   "source": [
    "**Question:** We plot our loss function for all possible values of our parameters $m$ and $b$. Our goal is to find the values of $m$ and $b$ that {blank} our loss function. "
   ]
  },
  {
   "cell_type": "markdown",
   "metadata": {},
   "source": [
    "**What goes in the blank above?**"
   ]
  },
  {
   "cell_type": "markdown",
   "metadata": {},
   "source": [
    "Given the loss function above, we take the partial derivative of this function with respect to $m$ and $b$. We've done the math for you. Here is the result:\n",
    "<img src='img2.png'>"
   ]
  },
  {
   "cell_type": "markdown",
   "metadata": {},
   "source": [
    "#### Write two functions:\n",
    "- The first function, `partial_derivative_m`, should take as inputs a list of $x$ values, a list of $y$ values, a $b$ value, and an $m$ value. *It should return how much the loss function changes for a one-unit change in $m$.*\n",
    "- The second function, `partial_derivative_b`, should take as inputs a list of $x$ values, a list of $y$ values, a $b$ value, and an $m$ value. *It should return how much the loss function changes for a one-unit change in $b$.*"
   ]
  },
  {
   "cell_type": "code",
   "execution_count": 13,
   "metadata": {
    "ExecuteTime": {
     "end_time": "2018-02-21T21:45:48.917407Z",
     "start_time": "2018-02-21T21:45:48.904371Z"
    },
    "collapsed": true
   },
   "outputs": [],
   "source": [
    "def partial_derivative_m(x, y, b, m):\n",
    "    n = len(x)\n",
    "    return((2/n) * np.sum([-x[i]*(y[i]-(m*x[i]+b)) for i in range(n)]))\n"
   ]
  },
  {
   "cell_type": "code",
   "execution_count": 14,
   "metadata": {
    "collapsed": true
   },
   "outputs": [],
   "source": [
    "def partial_derivative_b(x, y, b, m):\n",
    "    n = len(x)\n",
    "    return((2/n) * np.sum([-(y[i]-(m*x[i]+b)) for i in range(n)]))\n"
   ]
  },
  {
   "cell_type": "markdown",
   "metadata": {},
   "source": [
    "#### In your own words, what do these partial derivative functions represent, and how are they relevant in gradient descent?"
   ]
  },
  {
   "cell_type": "markdown",
   "metadata": {
    "ExecuteTime": {
     "end_time": "2018-02-21T19:14:08.680422Z",
     "start_time": "2018-02-21T19:14:08.672375Z"
    }
   },
   "source": [
    "**Answer:**\n",
    "- partial_derivative_m return how much the loss function changes for a one-unit change in m. Is important because we want to find the value of m that minimizes our loss function.\n",
    "- partial_derivative_b return how much our loss function changes for a one-unit change in b. Is important because we want to find the value of b that minimizes our loss function.\n",
    "- In gradient descent, we're going to start at some point and then \"slide\" down to the bottom. The partial derivative will be helpful for us to identify the direction in which we should slide."
   ]
  },
  {
   "cell_type": "markdown",
   "metadata": {},
   "source": [
    "#### Now that you've answered that question, it's time to actually implement gradient descent! \n",
    "\n",
    "You might find this formula helpful:\n",
    "$$\n",
    "\\beta_1 := \\beta_1 - \\alpha \\frac{\\partial L}{\\partial \\beta_1}\n",
    "$$\n",
    "\n",
    "First, write a function called `take_step` that will improve our model fit by taking a single step. It will take five inputs:\n",
    "\n",
    "- A list of x values\n",
    "- A list of y values\n",
    "- A current b value\n",
    "- A current m value\n",
    "- A learning rate\n",
    "\n",
    "It will return two outputs:\n",
    "- A new b value\n",
    "- A new m value\n",
    "\n",
    "*(Hint: Your function should make use of the two functions you just wrote!)*"
   ]
  },
  {
   "cell_type": "code",
   "execution_count": 15,
   "metadata": {
    "ExecuteTime": {
     "end_time": "2018-02-21T21:45:49.828897Z",
     "start_time": "2018-02-21T21:45:49.819872Z"
    },
    "collapsed": true
   },
   "outputs": [],
   "source": [
    "def take_step(x, y, b, m, learning_rate):\n",
    "    gradient_b = partial_derivative_b(x, y, b, m)\n",
    "    gradient_m = partial_derivative_m(x, y, b, m)\n",
    "    new_b = b - (learning_rate * gradient_b)\n",
    "    new_m = m - (learning_rate * gradient_m)\n",
    "    return(new_b, new_m)"
   ]
  },
  {
   "cell_type": "markdown",
   "metadata": {},
   "source": [
    "#### Now, define a function that will keep on taking steps until the function is minimized.\n",
    "\n",
    "You will need to decide on a *stopping criterion*. This could be a finite number of iterations you want your gradient descent to run, or it could be some special condition which causes your loop to end. Choose a stopping criterion, and defend your choice. (You may want to try out a few different stopping criteria.)"
   ]
  },
  {
   "cell_type": "code",
   "execution_count": 22,
   "metadata": {
    "ExecuteTime": {
     "end_time": "2018-02-21T21:45:50.287042Z",
     "start_time": "2018-02-21T21:45:50.255455Z"
    },
    "collapsed": true
   },
   "outputs": [],
   "source": [
    "def gradient_descent(x, y, b, m, learning_rate=.01):\n",
    "    max_iter = 1000 \n",
    "    count = 0\n",
    "    while True:\n",
    "        count += 1\n",
    "        if count == max_iter:\n",
    "            print('Max iterations reached')\n",
    "            break\n",
    "        \n",
    "        b_1, m_1 = take_step(x, y, b, m, learning_rate)\n",
    "        \n",
    "        b = b_1\n",
    "        m = m_1\n",
    "        \n",
    "    return(b, m)"
   ]
  },
  {
   "cell_type": "markdown",
   "metadata": {
    "ExecuteTime": {
     "end_time": "2018-02-21T20:07:34.124731Z",
     "start_time": "2018-02-21T20:07:34.118004Z"
    }
   },
   "source": [
    "#### Run your gradient descent function to move from your first guess to what the true values of _m_ and _b_ are, and plot a line showing the best model that gradient descent found:"
   ]
  },
  {
   "cell_type": "code",
   "execution_count": 23,
   "metadata": {
    "ExecuteTime": {
     "end_time": "2018-02-21T21:46:42.421730Z",
     "start_time": "2018-02-21T21:46:16.271976Z"
    }
   },
   "outputs": [
    {
     "name": "stdout",
     "output_type": "stream",
     "text": [
      "Max iterations reached\n",
      "Final intercept:  76478.1959427\n",
      "Final slope:  5541.96662545\n"
     ]
    },
    {
     "data": {
      "image/png": "[encoded data removed]",
      "text/plain": [
       "<matplotlib.figure.Figure at 0x10e617160>"
      ]
     },
     "metadata": {},
     "output_type": "display_data"
    }
   ],
   "source": [
    "b, m = gradient_descent(x=years_exp, y=income_data['Post-GA Income'], b=b_guess, m=m_guess, learning_rate = .01)\n",
    "print('Final intercept: ', b)\n",
    "print('Final slope: ', m)\n",
    "preds     = [determine_income(x, b=b, m=m) for x in years_exp]\n",
    "plt.scatter(income_data['Years of Experience'], income_data['Post-GA Income'])\n",
    "plt.title('Years of Previous Experience vs Post-GA Income')\n",
    "plt.xlabel('Years of Previous Experience')\n",
    "plt.ylabel('Post-GA Income')\n",
    "plt.plot(years_exp, preds, color='r');"
   ]
  },
  {
   "cell_type": "markdown",
   "metadata": {},
   "source": [
    "#### Import `statsmodels` and fit an OLS model with your data. Compare your results to what you found above."
   ]
  },
  {
   "cell_type": "code",
   "execution_count": 21,
   "metadata": {},
   "outputs": [
    {
     "name": "stderr",
     "output_type": "stream",
     "text": [
      "/Users/claugreco/anaconda3/lib/python3.6/site-packages/statsmodels/compat/pandas.py:56: FutureWarning: The pandas.core.datetools module is deprecated and will be removed in a future version. Please use the pandas.tseries module instead.\n",
      "  from pandas.core import datetools\n"
     ]
    },
    {
     "data": {
      "text/html": [
       "<table class=\"simpletable\">\n",
       "<caption>OLS Regression Results</caption>\n",
       "<tr>\n",
       "  <th>Dep. Variable:</th>            <td>y</td>        <th>  R-squared:         </th> <td>   1.000</td> \n",
       "</tr>\n",
       "<tr>\n",
       "  <th>Model:</th>                   <td>OLS</td>       <th>  Adj. R-squared:    </th> <td>   1.000</td> \n",
       "</tr>\n",
       "<tr>\n",
       "  <th>Method:</th>             <td>Least Squares</td>  <th>  F-statistic:       </th> <td>1.080e+32</td>\n",
       "</tr>\n",
       "<tr>\n",
       "  <th>Date:</th>             <td>Mon, 26 Mar 2018</td> <th>  Prob (F-statistic):</th>  <td>  0.00</td>  \n",
       "</tr>\n",
       "<tr>\n",
       "  <th>Time:</th>                 <td>09:55:14</td>     <th>  Log-Likelihood:    </th> <td>  2395.6</td> \n",
       "</tr>\n",
       "<tr>\n",
       "  <th>No. Observations:</th>      <td>   100</td>      <th>  AIC:               </th> <td>  -4787.</td> \n",
       "</tr>\n",
       "<tr>\n",
       "  <th>Df Residuals:</th>          <td>    98</td>      <th>  BIC:               </th> <td>  -4782.</td> \n",
       "</tr>\n",
       "<tr>\n",
       "  <th>Df Model:</th>              <td>     1</td>      <th>                     </th>     <td> </td>    \n",
       "</tr>\n",
       "<tr>\n",
       "  <th>Covariance Type:</th>      <td>nonrobust</td>    <th>                     </th>     <td> </td>    \n",
       "</tr>\n",
       "</table>\n",
       "<table class=\"simpletable\">\n",
       "<tr>\n",
       "           <td></td>              <th>coef</th>     <th>std err</th>      <th>t</th>      <th>P>|t|</th>  <th>[0.025</th>    <th>0.975]</th>  \n",
       "</tr>\n",
       "<tr>\n",
       "  <th>const</th>               <td> 7.648e+04</td> <td> 3.24e-12</td> <td> 2.36e+16</td> <td> 0.000</td> <td> 7.65e+04</td> <td> 7.65e+04</td>\n",
       "</tr>\n",
       "<tr>\n",
       "  <th>Years of Experience</th> <td> 5541.9666</td> <td> 5.33e-13</td> <td> 1.04e+16</td> <td> 0.000</td> <td> 5541.967</td> <td> 5541.967</td>\n",
       "</tr>\n",
       "</table>\n",
       "<table class=\"simpletable\">\n",
       "<tr>\n",
       "  <th>Omnibus:</th>       <td> 1.463</td> <th>  Durbin-Watson:     </th> <td>   1.093</td>\n",
       "</tr>\n",
       "<tr>\n",
       "  <th>Prob(Omnibus):</th> <td> 0.481</td> <th>  Jarque-Bera (JB):  </th> <td>  16.693</td>\n",
       "</tr>\n",
       "<tr>\n",
       "  <th>Skew:</th>          <td> 0.283</td> <th>  Prob(JB):          </th> <td>0.000237</td>\n",
       "</tr>\n",
       "<tr>\n",
       "  <th>Kurtosis:</th>      <td> 1.080</td> <th>  Cond. No.          </th> <td>    20.9</td>\n",
       "</tr>\n",
       "</table>"
      ],
      "text/plain": [
       "<class 'statsmodels.iolib.summary.Summary'>\n",
       "\"\"\"\n",
       "                            OLS Regression Results                            \n",
       "==============================================================================\n",
       "Dep. Variable:                      y   R-squared:                       1.000\n",
       "Model:                            OLS   Adj. R-squared:                  1.000\n",
       "Method:                 Least Squares   F-statistic:                 1.080e+32\n",
       "Date:                Mon, 26 Mar 2018   Prob (F-statistic):               0.00\n",
       "Time:                        09:55:14   Log-Likelihood:                 2395.6\n",
       "No. Observations:                 100   AIC:                            -4787.\n",
       "Df Residuals:                      98   BIC:                            -4782.\n",
       "Df Model:                           1                                         \n",
       "Covariance Type:            nonrobust                                         \n",
       "=======================================================================================\n",
       "                          coef    std err          t      P>|t|      [0.025      0.975]\n",
       "---------------------------------------------------------------------------------------\n",
       "const                7.648e+04   3.24e-12   2.36e+16      0.000    7.65e+04    7.65e+04\n",
       "Years of Experience  5541.9666   5.33e-13   1.04e+16      0.000    5541.967    5541.967\n",
       "==============================================================================\n",
       "Omnibus:                        1.463   Durbin-Watson:                   1.093\n",
       "Prob(Omnibus):                  0.481   Jarque-Bera (JB):               16.693\n",
       "Skew:                           0.283   Prob(JB):                     0.000237\n",
       "Kurtosis:                       1.080   Cond. No.                         20.9\n",
       "==============================================================================\n",
       "\n",
       "Warnings:\n",
       "[1] Standard Errors assume that the covariance matrix of the errors is correctly specified.\n",
       "\"\"\""
      ]
     },
     "execution_count": 21,
     "metadata": {},
     "output_type": "execute_result"
    }
   ],
   "source": [
    "import statsmodels.api as sm\n",
    "\n",
    "indep = sm.add_constant(income_data['Years of Experience'])\n",
    "lm = sm.OLS(preds, indep).fit()\n",
    "lm.summary()"
   ]
  },
  {
   "cell_type": "markdown",
   "metadata": {},
   "source": [
    "## Visualization Prompt:\n",
    "\n",
    "Modify the function you've just written so that you save all the intermediate *b* and *m* values. Plot the same scatter plot, but with a line showing the models gradient descent found before convergence. Use a small `alpha` to make your lines semi-transparent, and experiment so your audience can see the route your gradient descent took before it settled on the best model.\n",
    "\n",
    "To get you started, here is some Python code you might use as a template:\n",
    "\n",
    "```python\n",
    "plt.scatter(...                 # Plot the data \n",
    "plt.title(...                   # Add a title\n",
    "plt.xlabel(...                  # Add axis\n",
    "plt.ylabel(...                  #     labels\n",
    "plt.plot(...                    # Plot your first guess\n",
    "for i in range(...)):           # Iterate through for each iteration, optionally using `step` to skip some\n",
    "    preds = make_preds(...      # Make prediction using your current b and m values\n",
    "    plt.plot(..., alpha=...     # Plot the intermediate model with a transparent line\n",
    "plt.plot(...                    # Plot the final best model\n",
    "```"
   ]
  },
  {
   "cell_type": "code",
   "execution_count": 24,
   "metadata": {
    "collapsed": true
   },
   "outputs": [],
   "source": [
    "def gradient_descent(x, y, b, m, learning_rate=.01):\n",
    "    max_iter = 1000 \n",
    "    count = 0\n",
    "    m_list = [m]\n",
    "    b_list = [b]\n",
    "    while True:\n",
    "        count += 1\n",
    "        if count == max_iter:\n",
    "            print('Max iterations reached')\n",
    "            break\n",
    "        \n",
    "        b_1, m_1 = take_step(x, y, b, m, learning_rate)\n",
    "        \n",
    "        m_list.append(m_1)\n",
    "        b_list.append(b_1)\n",
    "        \n",
    "        b = b_1\n",
    "        m = m_1\n",
    "        \n",
    "    return(b, m, b_list, m_list)"
   ]
  },
  {
   "cell_type": "code",
   "execution_count": 25,
   "metadata": {
    "collapsed": true
   },
   "outputs": [],
   "source": [
    "def make_preds(year_exp, b, m):\n",
    "    return([determine_income(x, b=b, m=m) for x in years_exp])"
   ]
  },
  {
   "cell_type": "code",
   "execution_count": 28,
   "metadata": {},
   "outputs": [
    {
     "name": "stdout",
     "output_type": "stream",
     "text": [
      "Max iterations reached\n"
     ]
    },
    {
     "data": {
      "image/png": "[encoded data removed]",
      "text/plain": [
       "<matplotlib.figure.Figure at 0x1c198855f8>"
      ]
     },
     "metadata": {},
     "output_type": "display_data"
    }
   ],
   "source": [
    "b, m, b_list, m_list = gradient_descent(x=years_exp, y=income_data['Post-GA Income'], b=b_guess, m=m_guess, learning_rate = .01)\n",
    "\n",
    "plt.scatter(income_data['Years of Experience'], income_data['Post-GA Income'], color='black', alpha=.50)\n",
    "plt.title('Fit of Linear Regression Model By Gradient Descent')\n",
    "plt.xlabel('Years of Previous Experience')\n",
    "plt.ylabel('Post-GA Income')\n",
    "plt.plot(years_exp, make_preds(years_exp, b_guess, m_guess), color='r', alpha=.5)\n",
    "iters = len(b_list)\n",
    "for i in range(0,iters,int(iters/100)):\n",
    "    plt.plot(years_exp, make_preds(years_exp, b_list[i], m_list[i]), color='b', alpha=.1)\n",
    "\n",
    "plt.plot(years_exp, make_preds(years_exp, b, m), color='black');"
   ]
  },
  {
   "cell_type": "markdown",
   "metadata": {
    "ExecuteTime": {
     "end_time": "2018-02-21T19:59:11.137742Z",
     "start_time": "2018-02-21T19:59:11.127214Z"
    }
   },
   "source": [
    "## Bonus Questions:\n",
    "\n",
    "- Build on your function to implement stochastic gradient descent.\n",
    "- Wrap the above functions into a class that can implement both types of gradient descent.\n",
    "- Use the in-class slides to build out functions that can implement gradient descent for **logistic regression**."
   ]
  },
  {
   "cell_type": "code",
   "execution_count": null,
   "metadata": {
    "collapsed": true
   },
   "outputs": [],
   "source": []
  }
 ],
 "metadata": {
  "kernelspec": {
   "display_name": "Python [default]",
   "language": "python",
   "name": "python3"
  },
  "language_info": {
   "codemirror_mode": {
    "name": "ipython",
    "version": 3
   },
   "file_extension": ".py",
   "mimetype": "text/x-python",
   "name": "python",
   "nbconvert_exporter": "python",
   "pygments_lexer": "ipython3",
   "version": "3.6.3"
  },
  "toc": {
   "nav_menu": {},
   "number_sections": true,
   "sideBar": true,
   "skip_h1_title": false,
   "title_cell": "Table of Contents",
   "title_sidebar": "Contents",
   "toc_cell": false,
   "toc_position": {},
   "toc_section_display": true,
   "toc_window_display": false
  },
  "varInspector": {
   "cols": {
    "lenName": 16,
    "lenType": 16,
    "lenVar": 40
   },
   "kernels_config": {
    "python": {
     "delete_cmd_postfix": "",
     "delete_cmd_prefix": "del ",
     "library": "var_list.py",
     "varRefreshCmd": "print(var_dic_list())"
    },
    "r": {
     "delete_cmd_postfix": ") ",
     "delete_cmd_prefix": "rm(",
     "library": "var_list.r",
     "varRefreshCmd": "cat(var_dic_list()) "
    }
   },
   "types_to_exclude": [
    "module",
    "function",
    "builtin_function_or_method",
    "instance",
    "_Feature"
   ],
   "window_display": false
  }
 },
 "nbformat": 4,
 "nbformat_minor": 2
}
